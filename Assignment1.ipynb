{
 "cells": [
  {
   "cell_type": "code",
   "execution_count": 50,
   "id": "e03a5caf",
   "metadata": {},
   "outputs": [
    {
     "name": "stdout",
     "output_type": "stream",
     "text": [
      "Sunrise time: 7.44 hours\n",
      "Sunset time: 15.41 hours\n"
     ]
    }
   ],
   "source": [
    "import math\n",
    "\n",
    "def sunrise_sunset_algorithm(day, month, year,latitude, longitude,zenith,rising_time = True):\n",
    "    #first calculate the day of the year\n",
    "    N1 = math.floor(275 * month / 9)\n",
    "    N2 = math.floor((month + 9) / 12)\n",
    "    N3 = (1 + math.floor((year - 4 * math.floor(year / 4) + 2) / 3))\n",
    "    N = N1 - (N2 * N3) + day - 30\n",
    "    \n",
    "    #convert the longitude to hour value and calculate an approximate time\n",
    "    lngHour = longitude / 15\n",
    "\n",
    "    if rising_time:\n",
    "        t = N + ((6 - lngHour) / 24)\n",
    "    else:\n",
    "        t = N + ((18 - lngHour) / 24)\n",
    "        \n",
    "    #calculate the Sun's mean anomaly\n",
    "    M = (0.9856 * t) - 3.289\n",
    "    \n",
    "    #calculate the Sun's true longitude\n",
    "    L = M + (1.916 * math.sin(M)) + (0.020 * math.sin(2 * M)) + 282.634\n",
    "    L %= 360\n",
    "    \n",
    "    #calculate the Sun's right ascension\n",
    "    RA = math.atan(0.91764 * math.tan(L))\n",
    "    RA %= 360\n",
    "    \n",
    "    #right ascension value needs to be in the same quadrant as L\n",
    "    Lquadrant  = (math.floor( L/90)) * 90\n",
    "    RAquadrant = (math.floor(RA/90)) * 90\n",
    "    RA = RA + (Lquadrant - RAquadrant)\n",
    "    \n",
    "    #right ascension value needs to be converted into hours\n",
    "    RA = RA / 15\n",
    "    \n",
    "    #calculate the Sun's declination\n",
    "    math.sinDec = 0.39782 * math.sin(L)\n",
    "    math.cosDec = math.cos(math.asin(math.sinDec))\n",
    "    \n",
    "    #calculate the Sun's local hour angle\n",
    "\n",
    "    cosH = (math.cos(zenith) - (math.sinDec * math.sin(latitude))) / (math.cosDec * math.cos(latitude))\n",
    "    if (cosH > 1 or cosH < -1):\n",
    "        return None\n",
    "    \n",
    "    # Finish calculating H and convert into hours\n",
    "    if rising_time:\n",
    "        H = 360 - math.degrees(math.acos(cosH))\n",
    "    else:\n",
    "        H = math.degrees(math.acos(cosH))\n",
    "    H = H / 15\n",
    "\n",
    "    # Calculate local mean time of rising/setting\n",
    "    T = H + RA - (0.06571 * t) - 6.622\n",
    "    \n",
    "    # Adjust back to UTC\n",
    "    UT = T - lngHour\n",
    "    UT %= 24\n",
    "    \n",
    "    # Convert UT value to local time zone of latitude/longitude\n",
    "    localT = UT \n",
    "    return localT\n",
    "\n",
    "month = 6\n",
    "day = 15\n",
    "year = 2023\n",
    "latitude = 40.7128\n",
    "longitude = -74.0060\n",
    "zenith = 90.0\n",
    "\n",
    "\n",
    "sunrise = sunrise_sunset_algorithm(day, month, year,latitude, longitude,zenith,rising_time = True)\n",
    "sunset = sunrise_sunset_algorithm(day, month, year,latitude, longitude,zenith,rising_time = False)\n",
    "print(f\"Sunrise time: {sunrise:.2f} hours\")\n",
    "print(f\"Sunset time: {sunset:.2f} hours\")"
   ]
  },
  {
   "cell_type": "markdown",
   "id": "56d60f2a",
   "metadata": {},
   "source": []
  }
 ],
 "metadata": {
  "kernelspec": {
   "display_name": "Python 3 (ipykernel)",
   "language": "python",
   "name": "python3"
  },
  "language_info": {
   "codemirror_mode": {
    "name": "ipython",
    "version": 3
   },
   "file_extension": ".py",
   "mimetype": "text/x-python",
   "name": "python",
   "nbconvert_exporter": "python",
   "pygments_lexer": "ipython3",
   "version": "3.9.7"
  }
 },
 "nbformat": 4,
 "nbformat_minor": 5
}
